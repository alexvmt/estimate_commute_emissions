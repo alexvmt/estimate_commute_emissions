{
 "cells": [
  {
   "cell_type": "markdown",
   "id": "ba634667-e96f-4940-81fc-91f0a280dfcc",
   "metadata": {},
   "source": [
    "# Estimate commute emissions\n"
   ]
  },
  {
   "cell_type": "markdown",
   "id": "e519cd2e-7a05-45ea-afa0-614d94eb1ed8",
   "metadata": {},
   "source": [
    "## Setup"
   ]
  },
  {
   "cell_type": "code",
   "execution_count": 1,
   "id": "a801105f-bb47-4874-a554-ebecfb0ef2ec",
   "metadata": {},
   "outputs": [],
   "source": [
    "import numpy as np\n",
    "import pandas as pd\n",
    "import random\n",
    "import matplotlib.pyplot as plt\n",
    "import seaborn as sns"
   ]
  },
  {
   "cell_type": "code",
   "execution_count": 2,
   "id": "1e939cdf-6354-496e-8170-604ac030903b",
   "metadata": {},
   "outputs": [],
   "source": [
    "sns.set_theme()"
   ]
  },
  {
   "cell_type": "code",
   "execution_count": 3,
   "id": "ef840f1d-687d-4e10-b7fb-fcd9783013f8",
   "metadata": {},
   "outputs": [],
   "source": [
    "seed = 42\n",
    "random.seed(seed)"
   ]
  },
  {
   "cell_type": "code",
   "execution_count": 4,
   "id": "40e46afd-d260-452e-a9bb-acc0135eb8d3",
   "metadata": {},
   "outputs": [],
   "source": [
    "def sample_approximate_distances(employees, mode_share, lower_limit, upper_limit, distance_share):\n",
    "    \n",
    "    approximate_distances = [random.randint(lower_limit, upper_limit) for i in range(int(round(round(employees * mode_share, 0) * distance_share, 0)))]\n",
    "    \n",
    "    return approximate_distances"
   ]
  },
  {
   "cell_type": "markdown",
   "id": "4b64a5c2-eeb7-4a0e-8200-21ba3d3a12c0",
   "metadata": {},
   "source": [
    "## Inputs"
   ]
  },
  {
   "cell_type": "code",
   "execution_count": 5,
   "id": "4fe15504-6323-4b58-ae3c-bd7bf1e2796d",
   "metadata": {},
   "outputs": [],
   "source": [
    "year = 2022\n",
    "employees = 500\n",
    "car_share = 0.35\n",
    "public_transport_share = 0.40\n",
    "average_weekly_office_days = 3\n",
    "foot_bike_share = 1 - car_share - public_transport_share"
   ]
  },
  {
   "cell_type": "code",
   "execution_count": 6,
   "id": "559b0b9c-ed99-4bdc-b0c7-7fad0b47b707",
   "metadata": {},
   "outputs": [
    {
     "name": "stdout",
     "output_type": "stream",
     "text": [
      "foot/bike share: 25%\n",
      "public transport share: 40%\n",
      "car share: 35%\n",
      "total: 100%\n"
     ]
    }
   ],
   "source": [
    "print(f'foot/bike share: {foot_bike_share:.0%}')\n",
    "print(f'public transport share: {public_transport_share:.0%}')\n",
    "print(f'car share: {car_share:.0%}')\n",
    "print(f'total: {(foot_bike_share + public_transport_share + car_share):.0%}')"
   ]
  },
  {
   "cell_type": "markdown",
   "id": "797ee021-92f2-49c8-b3ea-a4ae400833f1",
   "metadata": {},
   "source": [
    "## Oneway distances"
   ]
  },
  {
   "cell_type": "code",
   "execution_count": 7,
   "id": "c615edd7-1568-4706-a77c-6520d29bff3d",
   "metadata": {},
   "outputs": [],
   "source": [
    "# same property (0.5%) is added to below 5 km\n",
    "# changing work place (1.4%) is added to 25 up to 50 km\n",
    "# these choices are somewhat arbitrary but need to be made in order for the shares to sum up to 1\n",
    "# all commute modes are included in the respective shares\n",
    "# it seems sensible to assume that public transport commute distances are genereally lower than car commute distances\n",
    "# this leads to public transport commute distances being rather too high\n",
    "# and car commute distances being rather too low"
   ]
  },
  {
   "cell_type": "markdown",
   "id": "16e6aa0c-db82-4057-96fc-d0128e9b0907",
   "metadata": {},
   "source": [
    "### Foot/bike"
   ]
  },
  {
   "cell_type": "code",
   "execution_count": 8,
   "id": "584764a6-e662-4a8c-961e-e4f3c3d82981",
   "metadata": {},
   "outputs": [
    {
     "data": {
      "text/plain": [
       "(125, 2)"
      ]
     },
     "execution_count": 8,
     "metadata": {},
     "output_type": "execute_result"
    }
   ],
   "source": [
    "foot_bike_df = pd.DataFrame()\n",
    "foot_bike_df['mode'] = ['foot/bike'] * int(round(employees * foot_bike_share, 0))\n",
    "foot_bike_df['oneway_distance'] = 0 # distance doesn't matter here because emissions are 0 anyway\n",
    "foot_bike_df.shape"
   ]
  },
  {
   "cell_type": "markdown",
   "id": "40b8501c-1a64-427e-86e3-88401a0a5724",
   "metadata": {},
   "source": [
    "### Public transport"
   ]
  },
  {
   "cell_type": "code",
   "execution_count": 9,
   "id": "2f11b9cd-7671-4f97-b240-b31812621400",
   "metadata": {},
   "outputs": [
    {
     "data": {
      "text/plain": [
       "200"
      ]
     },
     "execution_count": 9,
     "metadata": {},
     "output_type": "execute_result"
    }
   ],
   "source": [
    "random.seed(seed)\n",
    "\n",
    "below_5_km = sample_approximate_distances(employees, public_transport_share, 1, 5, 0.258 + 0.005)\n",
    "from_5_up_to_10_km = sample_approximate_distances(employees, public_transport_share, 5, 10, 0.223)\n",
    "from_10_up_to_25_km = sample_approximate_distances(employees, public_transport_share, 10, 25, 0.302)\n",
    "from_25_up_to_50_km = sample_approximate_distances(employees, public_transport_share, 25, 50, 0.148 + 0.014)\n",
    "from_50_up_to_100_km = sample_approximate_distances(employees, public_transport_share, 50, 100, 0.051)\n",
    "\n",
    "public_transport_distances = below_5_km + from_5_up_to_10_km + from_10_up_to_25_km + from_25_up_to_50_km + from_50_up_to_100_km\n",
    "len(public_transport_distances)"
   ]
  },
  {
   "cell_type": "code",
   "execution_count": 10,
   "id": "17598014-ae18-44c5-877f-89e0d09acc09",
   "metadata": {},
   "outputs": [
    {
     "data": {
      "image/png": "[encoded data removed]",
      "text/plain": [
       "<Figure size 640x480 with 1 Axes>"
      ]
     },
     "metadata": {},
     "output_type": "display_data"
    }
   ],
   "source": [
    "plt.hist(public_transport_distances)\n",
    "plt.title('Public transport commute distances')\n",
    "plt.ylabel('Frequency')\n",
    "plt.xlabel('Commute distance in km')\n",
    "plt.show()"
   ]
  },
  {
   "cell_type": "code",
   "execution_count": 11,
   "id": "533aef1b-bc9a-4cbb-8634-d69c0837070e",
   "metadata": {},
   "outputs": [
    {
     "data": {
      "text/plain": [
       "(200, 2)"
      ]
     },
     "execution_count": 11,
     "metadata": {},
     "output_type": "execute_result"
    }
   ],
   "source": [
    "public_transport_df = pd.DataFrame()\n",
    "public_transport_df['mode'] = ['public_transport'] * int(round(employees * public_transport_share, 0))\n",
    "public_transport_df['oneway_distance'] = public_transport_distances\n",
    "public_transport_df.shape"
   ]
  },
  {
   "cell_type": "markdown",
   "id": "a9c26f35-c412-4fe4-a6b5-53a663b89cc1",
   "metadata": {},
   "source": [
    "### Car"
   ]
  },
  {
   "cell_type": "code",
   "execution_count": 12,
   "id": "f2425e93-e854-4d88-b2f9-5b39e62b809d",
   "metadata": {},
   "outputs": [
    {
     "data": {
      "text/plain": [
       "175"
      ]
     },
     "execution_count": 12,
     "metadata": {},
     "output_type": "execute_result"
    }
   ],
   "source": [
    "random.seed(seed)\n",
    "\n",
    "below_5_km = sample_approximate_distances(employees, car_share, 3, 5, 0.258) # setting lower limit to 3 seems reasonable for this car commute distance group\n",
    "from_5_up_to_10_km = sample_approximate_distances(employees, car_share, 5, 10, 0.223 + 0.005)\n",
    "from_10_up_to_25_km = sample_approximate_distances(employees, car_share, 10, 25, 0.302)\n",
    "from_25_up_to_50_km = sample_approximate_distances(employees, car_share, 25, 50, 0.148 + 0.014)\n",
    "from_50_up_to_100_km = sample_approximate_distances(employees, car_share, 50, 100, 0.051)\n",
    "\n",
    "car_distances = below_5_km + from_5_up_to_10_km + from_10_up_to_25_km + from_25_up_to_50_km + from_50_up_to_100_km\n",
    "len(car_distances)"
   ]
  },
  {
   "cell_type": "code",
   "execution_count": 13,
   "id": "eaba0362-036f-4ee9-a518-6c23983e8704",
   "metadata": {},
   "outputs": [
    {
     "data": {
      "image/png": "[encoded data removed]",
      "text/plain": [
       "<Figure size 640x480 with 1 Axes>"
      ]
     },
     "metadata": {},
     "output_type": "display_data"
    }
   ],
   "source": [
    "plt.hist(car_distances)\n",
    "plt.title('Car commute distances')\n",
    "plt.ylabel('Frequency')\n",
    "plt.xlabel('Commute distance in km')\n",
    "plt.show()"
   ]
  },
  {
   "cell_type": "code",
   "execution_count": 14,
   "id": "c39ea2aa-f368-4d8b-bd03-2440cc4fa9c0",
   "metadata": {},
   "outputs": [
    {
     "data": {
      "text/plain": [
       "(175, 2)"
      ]
     },
     "execution_count": 14,
     "metadata": {},
     "output_type": "execute_result"
    }
   ],
   "source": [
    "car_df = pd.DataFrame()\n",
    "car_df['mode'] = ['car'] * int(round(employees * car_share, 0))\n",
    "car_df['oneway_distance'] = car_distances\n",
    "car_df.shape"
   ]
  },
  {
   "cell_type": "code",
   "execution_count": 15,
   "id": "c4e0919c-a6b2-44a1-b5bf-8d148f82429a",
   "metadata": {},
   "outputs": [
    {
     "data": {
      "text/html": [
       "<div>\n",
       "<style scoped>\n",
       "    .dataframe tbody tr th:only-of-type {\n",
       "        vertical-align: middle;\n",
       "    }\n",
       "\n",
       "    .dataframe tbody tr th {\n",
       "        vertical-align: top;\n",
       "    }\n",
       "\n",
       "    .dataframe thead th {\n",
       "        text-align: right;\n",
       "    }\n",
       "</style>\n",
       "<table border=\"1\" class=\"dataframe\">\n",
       "  <thead>\n",
       "    <tr style=\"text-align: right;\">\n",
       "      <th></th>\n",
       "      <th>mode</th>\n",
       "      <th>oneway_distance</th>\n",
       "    </tr>\n",
       "  </thead>\n",
       "  <tbody>\n",
       "    <tr>\n",
       "      <th>0</th>\n",
       "      <td>foot/bike</td>\n",
       "      <td>0</td>\n",
       "    </tr>\n",
       "    <tr>\n",
       "      <th>1</th>\n",
       "      <td>foot/bike</td>\n",
       "      <td>0</td>\n",
       "    </tr>\n",
       "    <tr>\n",
       "      <th>2</th>\n",
       "      <td>foot/bike</td>\n",
       "      <td>0</td>\n",
       "    </tr>\n",
       "    <tr>\n",
       "      <th>3</th>\n",
       "      <td>foot/bike</td>\n",
       "      <td>0</td>\n",
       "    </tr>\n",
       "    <tr>\n",
       "      <th>4</th>\n",
       "      <td>foot/bike</td>\n",
       "      <td>0</td>\n",
       "    </tr>\n",
       "    <tr>\n",
       "      <th>...</th>\n",
       "      <td>...</td>\n",
       "      <td>...</td>\n",
       "    </tr>\n",
       "    <tr>\n",
       "      <th>495</th>\n",
       "      <td>car</td>\n",
       "      <td>53</td>\n",
       "    </tr>\n",
       "    <tr>\n",
       "      <th>496</th>\n",
       "      <td>car</td>\n",
       "      <td>65</td>\n",
       "    </tr>\n",
       "    <tr>\n",
       "      <th>497</th>\n",
       "      <td>car</td>\n",
       "      <td>86</td>\n",
       "    </tr>\n",
       "    <tr>\n",
       "      <th>498</th>\n",
       "      <td>car</td>\n",
       "      <td>55</td>\n",
       "    </tr>\n",
       "    <tr>\n",
       "      <th>499</th>\n",
       "      <td>car</td>\n",
       "      <td>55</td>\n",
       "    </tr>\n",
       "  </tbody>\n",
       "</table>\n",
       "<p>500 rows × 2 columns</p>\n",
       "</div>"
      ],
      "text/plain": [
       "          mode  oneway_distance\n",
       "0    foot/bike                0\n",
       "1    foot/bike                0\n",
       "2    foot/bike                0\n",
       "3    foot/bike                0\n",
       "4    foot/bike                0\n",
       "..         ...              ...\n",
       "495        car               53\n",
       "496        car               65\n",
       "497        car               86\n",
       "498        car               55\n",
       "499        car               55\n",
       "\n",
       "[500 rows x 2 columns]"
      ]
     },
     "execution_count": 15,
     "metadata": {},
     "output_type": "execute_result"
    }
   ],
   "source": [
    "all_modes_df = pd.concat([foot_bike_df, public_transport_df, car_df], ignore_index=True)\n",
    "all_modes_df"
   ]
  },
  {
   "cell_type": "markdown",
   "id": "1a7d1e9f-9b63-4d18-a5bc-75bed3d0356e",
   "metadata": {},
   "source": [
    "## Yearly distance"
   ]
  },
  {
   "cell_type": "code",
   "execution_count": 16,
   "id": "4a7f24f4-4e59-442f-bea8-7d0aefcfa57d",
   "metadata": {},
   "outputs": [],
   "source": [
    "# oneway distance times 2 times average weekly office days times (52 weeks per year - 6 weeks of vacation per year)\n",
    "all_modes_df['yearly_distance'] = all_modes_df['oneway_distance'] * 2 * average_weekly_office_days * (52 - 6)"
   ]
  },
  {
   "cell_type": "markdown",
   "id": "ac102817-7d9f-4d2e-b9df-1df8c42ca7bf",
   "metadata": {},
   "source": [
    "## Emission factors"
   ]
  },
  {
   "cell_type": "code",
   "execution_count": 17,
   "id": "073f50e9-0683-44ab-b074-1cbd4fa51be0",
   "metadata": {},
   "outputs": [
    {
     "data": {
      "text/plain": [
       "0.19804"
      ]
     },
     "execution_count": 17,
     "metadata": {},
     "output_type": "execute_result"
    }
   ],
   "source": [
    "# petrol and diesel (small, medium, large) included\n",
    "# LNG, CNG and electro excluded for now because their relative share is rather small in comparison\n",
    "car_emission_factors = [0.2588,\n",
    "                        0.1757,\n",
    "                        0.207,\n",
    "                        0.21952,\n",
    "                        0.14338,\n",
    "                        0.18381]\n",
    "\n",
    "average_car_emission_factor = round(np.mean(car_emission_factors), 5)\n",
    "average_car_emission_factor"
   ]
  },
  {
   "cell_type": "code",
   "execution_count": 18,
   "id": "37bef4fc-3574-470e-87ab-8370a1d082a4",
   "metadata": {},
   "outputs": [
    {
     "data": {
      "text/plain": [
       "0.05666"
      ]
     },
     "execution_count": 18,
     "metadata": {},
     "output_type": "execute_result"
    }
   ],
   "source": [
    "# bus, tram/subway, short-distance train (diesel and electro) and long-distance train (diesel and electro) included\n",
    "public_transport_average_emission_factor = [0.04326,\n",
    "                                            0.11741,\n",
    "                                            0.04391,\n",
    "                                            0.07104,\n",
    "                                            0.00954,\n",
    "                                            0.05478]\n",
    "\n",
    "average_public_transport_emission_factor = round(np.mean(public_transport_average_emission_factor), 5)\n",
    "average_public_transport_emission_factor"
   ]
  },
  {
   "cell_type": "code",
   "execution_count": 19,
   "id": "e4c3aa26-6a09-46c9-9884-8b87eb5bbcf7",
   "metadata": {},
   "outputs": [],
   "source": [
    "mapping_emission_factors = {'foot/bike': 0,\n",
    "                            'public_transport': average_public_transport_emission_factor,\n",
    "                            'car': average_car_emission_factor}"
   ]
  },
  {
   "cell_type": "code",
   "execution_count": 20,
   "id": "f8397b0f-b380-4a3f-a685-c3c84252f339",
   "metadata": {},
   "outputs": [
    {
     "data": {
      "text/html": [
       "<div>\n",
       "<style scoped>\n",
       "    .dataframe tbody tr th:only-of-type {\n",
       "        vertical-align: middle;\n",
       "    }\n",
       "\n",
       "    .dataframe tbody tr th {\n",
       "        vertical-align: top;\n",
       "    }\n",
       "\n",
       "    .dataframe thead th {\n",
       "        text-align: right;\n",
       "    }\n",
       "</style>\n",
       "<table border=\"1\" class=\"dataframe\">\n",
       "  <thead>\n",
       "    <tr style=\"text-align: right;\">\n",
       "      <th></th>\n",
       "      <th>mode</th>\n",
       "      <th>oneway_distance</th>\n",
       "      <th>yearly_distance</th>\n",
       "      <th>emission_factor</th>\n",
       "    </tr>\n",
       "  </thead>\n",
       "  <tbody>\n",
       "    <tr>\n",
       "      <th>0</th>\n",
       "      <td>foot/bike</td>\n",
       "      <td>0</td>\n",
       "      <td>0</td>\n",
       "      <td>0.00000</td>\n",
       "    </tr>\n",
       "    <tr>\n",
       "      <th>1</th>\n",
       "      <td>foot/bike</td>\n",
       "      <td>0</td>\n",
       "      <td>0</td>\n",
       "      <td>0.00000</td>\n",
       "    </tr>\n",
       "    <tr>\n",
       "      <th>2</th>\n",
       "      <td>foot/bike</td>\n",
       "      <td>0</td>\n",
       "      <td>0</td>\n",
       "      <td>0.00000</td>\n",
       "    </tr>\n",
       "    <tr>\n",
       "      <th>3</th>\n",
       "      <td>foot/bike</td>\n",
       "      <td>0</td>\n",
       "      <td>0</td>\n",
       "      <td>0.00000</td>\n",
       "    </tr>\n",
       "    <tr>\n",
       "      <th>4</th>\n",
       "      <td>foot/bike</td>\n",
       "      <td>0</td>\n",
       "      <td>0</td>\n",
       "      <td>0.00000</td>\n",
       "    </tr>\n",
       "    <tr>\n",
       "      <th>...</th>\n",
       "      <td>...</td>\n",
       "      <td>...</td>\n",
       "      <td>...</td>\n",
       "      <td>...</td>\n",
       "    </tr>\n",
       "    <tr>\n",
       "      <th>495</th>\n",
       "      <td>car</td>\n",
       "      <td>53</td>\n",
       "      <td>14628</td>\n",
       "      <td>0.19804</td>\n",
       "    </tr>\n",
       "    <tr>\n",
       "      <th>496</th>\n",
       "      <td>car</td>\n",
       "      <td>65</td>\n",
       "      <td>17940</td>\n",
       "      <td>0.19804</td>\n",
       "    </tr>\n",
       "    <tr>\n",
       "      <th>497</th>\n",
       "      <td>car</td>\n",
       "      <td>86</td>\n",
       "      <td>23736</td>\n",
       "      <td>0.19804</td>\n",
       "    </tr>\n",
       "    <tr>\n",
       "      <th>498</th>\n",
       "      <td>car</td>\n",
       "      <td>55</td>\n",
       "      <td>15180</td>\n",
       "      <td>0.19804</td>\n",
       "    </tr>\n",
       "    <tr>\n",
       "      <th>499</th>\n",
       "      <td>car</td>\n",
       "      <td>55</td>\n",
       "      <td>15180</td>\n",
       "      <td>0.19804</td>\n",
       "    </tr>\n",
       "  </tbody>\n",
       "</table>\n",
       "<p>500 rows × 4 columns</p>\n",
       "</div>"
      ],
      "text/plain": [
       "          mode  oneway_distance  yearly_distance  emission_factor\n",
       "0    foot/bike                0                0          0.00000\n",
       "1    foot/bike                0                0          0.00000\n",
       "2    foot/bike                0                0          0.00000\n",
       "3    foot/bike                0                0          0.00000\n",
       "4    foot/bike                0                0          0.00000\n",
       "..         ...              ...              ...              ...\n",
       "495        car               53            14628          0.19804\n",
       "496        car               65            17940          0.19804\n",
       "497        car               86            23736          0.19804\n",
       "498        car               55            15180          0.19804\n",
       "499        car               55            15180          0.19804\n",
       "\n",
       "[500 rows x 4 columns]"
      ]
     },
     "execution_count": 20,
     "metadata": {},
     "output_type": "execute_result"
    }
   ],
   "source": [
    "all_modes_df['emission_factor'] = all_modes_df['mode'].map(mapping_emission_factors)\n",
    "all_modes_df"
   ]
  },
  {
   "cell_type": "markdown",
   "id": "5a97728c-2332-49dc-8217-a9aec24bf372",
   "metadata": {
    "tags": []
   },
   "source": [
    "## Yearly emitted tonnes of CO2 equivalents"
   ]
  },
  {
   "cell_type": "code",
   "execution_count": 21,
   "id": "fb511010-3066-43e3-bf64-08a19c9ddc96",
   "metadata": {},
   "outputs": [
    {
     "data": {
      "text/html": [
       "<div>\n",
       "<style scoped>\n",
       "    .dataframe tbody tr th:only-of-type {\n",
       "        vertical-align: middle;\n",
       "    }\n",
       "\n",
       "    .dataframe tbody tr th {\n",
       "        vertical-align: top;\n",
       "    }\n",
       "\n",
       "    .dataframe thead th {\n",
       "        text-align: right;\n",
       "    }\n",
       "</style>\n",
       "<table border=\"1\" class=\"dataframe\">\n",
       "  <thead>\n",
       "    <tr style=\"text-align: right;\">\n",
       "      <th></th>\n",
       "      <th>mode</th>\n",
       "      <th>oneway_distance</th>\n",
       "      <th>yearly_distance</th>\n",
       "      <th>emission_factor</th>\n",
       "      <th>yearly_emissions</th>\n",
       "    </tr>\n",
       "  </thead>\n",
       "  <tbody>\n",
       "    <tr>\n",
       "      <th>0</th>\n",
       "      <td>foot/bike</td>\n",
       "      <td>0</td>\n",
       "      <td>0</td>\n",
       "      <td>0.00000</td>\n",
       "      <td>0.00</td>\n",
       "    </tr>\n",
       "    <tr>\n",
       "      <th>1</th>\n",
       "      <td>foot/bike</td>\n",
       "      <td>0</td>\n",
       "      <td>0</td>\n",
       "      <td>0.00000</td>\n",
       "      <td>0.00</td>\n",
       "    </tr>\n",
       "    <tr>\n",
       "      <th>2</th>\n",
       "      <td>foot/bike</td>\n",
       "      <td>0</td>\n",
       "      <td>0</td>\n",
       "      <td>0.00000</td>\n",
       "      <td>0.00</td>\n",
       "    </tr>\n",
       "    <tr>\n",
       "      <th>3</th>\n",
       "      <td>foot/bike</td>\n",
       "      <td>0</td>\n",
       "      <td>0</td>\n",
       "      <td>0.00000</td>\n",
       "      <td>0.00</td>\n",
       "    </tr>\n",
       "    <tr>\n",
       "      <th>4</th>\n",
       "      <td>foot/bike</td>\n",
       "      <td>0</td>\n",
       "      <td>0</td>\n",
       "      <td>0.00000</td>\n",
       "      <td>0.00</td>\n",
       "    </tr>\n",
       "    <tr>\n",
       "      <th>...</th>\n",
       "      <td>...</td>\n",
       "      <td>...</td>\n",
       "      <td>...</td>\n",
       "      <td>...</td>\n",
       "      <td>...</td>\n",
       "    </tr>\n",
       "    <tr>\n",
       "      <th>495</th>\n",
       "      <td>car</td>\n",
       "      <td>53</td>\n",
       "      <td>14628</td>\n",
       "      <td>0.19804</td>\n",
       "      <td>2.90</td>\n",
       "    </tr>\n",
       "    <tr>\n",
       "      <th>496</th>\n",
       "      <td>car</td>\n",
       "      <td>65</td>\n",
       "      <td>17940</td>\n",
       "      <td>0.19804</td>\n",
       "      <td>3.55</td>\n",
       "    </tr>\n",
       "    <tr>\n",
       "      <th>497</th>\n",
       "      <td>car</td>\n",
       "      <td>86</td>\n",
       "      <td>23736</td>\n",
       "      <td>0.19804</td>\n",
       "      <td>4.70</td>\n",
       "    </tr>\n",
       "    <tr>\n",
       "      <th>498</th>\n",
       "      <td>car</td>\n",
       "      <td>55</td>\n",
       "      <td>15180</td>\n",
       "      <td>0.19804</td>\n",
       "      <td>3.01</td>\n",
       "    </tr>\n",
       "    <tr>\n",
       "      <th>499</th>\n",
       "      <td>car</td>\n",
       "      <td>55</td>\n",
       "      <td>15180</td>\n",
       "      <td>0.19804</td>\n",
       "      <td>3.01</td>\n",
       "    </tr>\n",
       "  </tbody>\n",
       "</table>\n",
       "<p>500 rows × 5 columns</p>\n",
       "</div>"
      ],
      "text/plain": [
       "          mode  oneway_distance  yearly_distance  emission_factor  \\\n",
       "0    foot/bike                0                0          0.00000   \n",
       "1    foot/bike                0                0          0.00000   \n",
       "2    foot/bike                0                0          0.00000   \n",
       "3    foot/bike                0                0          0.00000   \n",
       "4    foot/bike                0                0          0.00000   \n",
       "..         ...              ...              ...              ...   \n",
       "495        car               53            14628          0.19804   \n",
       "496        car               65            17940          0.19804   \n",
       "497        car               86            23736          0.19804   \n",
       "498        car               55            15180          0.19804   \n",
       "499        car               55            15180          0.19804   \n",
       "\n",
       "     yearly_emissions  \n",
       "0                0.00  \n",
       "1                0.00  \n",
       "2                0.00  \n",
       "3                0.00  \n",
       "4                0.00  \n",
       "..                ...  \n",
       "495              2.90  \n",
       "496              3.55  \n",
       "497              4.70  \n",
       "498              3.01  \n",
       "499              3.01  \n",
       "\n",
       "[500 rows x 5 columns]"
      ]
     },
     "execution_count": 21,
     "metadata": {},
     "output_type": "execute_result"
    }
   ],
   "source": [
    "all_modes_df['yearly_emissions'] = round((all_modes_df['yearly_distance'] * all_modes_df['emission_factor']) / 1000, 2)\n",
    "all_modes_df"
   ]
  },
  {
   "cell_type": "markdown",
   "id": "1dab069f-938c-488a-a5bf-9ebd0ebc740f",
   "metadata": {},
   "source": [
    "## Emissions overview"
   ]
  },
  {
   "cell_type": "code",
   "execution_count": 22,
   "id": "b1be720f-01ed-4bb9-b87b-c502b37873f5",
   "metadata": {},
   "outputs": [
    {
     "name": "stdout",
     "output_type": "stream",
     "text": [
      "Emissions - 2022\n",
      "- total: 220.72 t CO2e\n",
      "- per employee: 0.44 t CO2e\n"
     ]
    }
   ],
   "source": [
    "total_emissions = round(all_modes_df['yearly_emissions'].sum(), 2)\n",
    "emissions_per_employee = round(total_emissions / employees, 2)\n",
    "print(f'Emissions - {year}')\n",
    "print(f'- total: {total_emissions} t CO2e')\n",
    "print(f'- per employee: {emissions_per_employee} t CO2e')"
   ]
  },
  {
   "cell_type": "markdown",
   "id": "c6591ca5-c10f-44e1-919f-86c969330e66",
   "metadata": {},
   "source": [
    "## Emissions by mode"
   ]
  },
  {
   "cell_type": "code",
   "execution_count": 23,
   "id": "4010508d-19b6-4da4-9f2a-9526c98ba22b",
   "metadata": {},
   "outputs": [
    {
     "data": {
      "image/png": "[encoded data removed]",
      "text/plain": [
       "<Figure size 640x480 with 1 Axes>"
      ]
     },
     "metadata": {},
     "output_type": "display_data"
    }
   ],
   "source": [
    "all_modes_df_agg = all_modes_df.groupby('mode').agg({'yearly_emissions': 'sum'}).sort_values('yearly_emissions', ascending=False).reset_index()\n",
    "plt.bar(all_modes_df_agg['mode'], all_modes_df_agg['yearly_emissions'])\n",
    "plt.title(f'Yearly emissions in tonnes of CO2e - {year}')\n",
    "plt.show()"
   ]
  },
  {
   "cell_type": "markdown",
   "id": "31008612-8420-4355-bf01-7718aae0bad9",
   "metadata": {},
   "source": [
    "## Relationship between modes and emissions"
   ]
  },
  {
   "cell_type": "code",
   "execution_count": 24,
   "id": "f37a8951-632c-4d82-8a30-d212c9adaffb",
   "metadata": {},
   "outputs": [],
   "source": [
    "mapping_modes = {'foot/bike': foot_bike_share,\n",
    "                 'public_transport': public_transport_share,\n",
    "                 'car': car_share}"
   ]
  },
  {
   "cell_type": "code",
   "execution_count": 25,
   "id": "b66c5d8f-0e48-4844-a112-5722a0a8a550",
   "metadata": {},
   "outputs": [
    {
     "data": {
      "text/html": [
       "<div>\n",
       "<style scoped>\n",
       "    .dataframe tbody tr th:only-of-type {\n",
       "        vertical-align: middle;\n",
       "    }\n",
       "\n",
       "    .dataframe tbody tr th {\n",
       "        vertical-align: top;\n",
       "    }\n",
       "\n",
       "    .dataframe thead th {\n",
       "        text-align: right;\n",
       "    }\n",
       "</style>\n",
       "<table border=\"1\" class=\"dataframe\">\n",
       "  <thead>\n",
       "    <tr style=\"text-align: right;\">\n",
       "      <th></th>\n",
       "      <th>mode</th>\n",
       "      <th>yearly_emissions</th>\n",
       "      <th>mode_share</th>\n",
       "    </tr>\n",
       "  </thead>\n",
       "  <tbody>\n",
       "    <tr>\n",
       "      <th>0</th>\n",
       "      <td>car</td>\n",
       "      <td>166.18</td>\n",
       "      <td>0.35</td>\n",
       "    </tr>\n",
       "    <tr>\n",
       "      <th>1</th>\n",
       "      <td>public_transport</td>\n",
       "      <td>54.54</td>\n",
       "      <td>0.40</td>\n",
       "    </tr>\n",
       "    <tr>\n",
       "      <th>2</th>\n",
       "      <td>foot/bike</td>\n",
       "      <td>0.00</td>\n",
       "      <td>0.25</td>\n",
       "    </tr>\n",
       "  </tbody>\n",
       "</table>\n",
       "</div>"
      ],
      "text/plain": [
       "               mode  yearly_emissions  mode_share\n",
       "0               car            166.18        0.35\n",
       "1  public_transport             54.54        0.40\n",
       "2         foot/bike              0.00        0.25"
      ]
     },
     "execution_count": 25,
     "metadata": {},
     "output_type": "execute_result"
    }
   ],
   "source": [
    "all_modes_df_agg['mode_share'] = all_modes_df_agg['mode'].map(mapping_modes)\n",
    "all_modes_df_agg"
   ]
  },
  {
   "cell_type": "code",
   "execution_count": 26,
   "id": "cfedbda5-709d-4117-9476-dfb13abac4ee",
   "metadata": {},
   "outputs": [
    {
     "data": {
      "text/html": [
       "<div>\n",
       "<style scoped>\n",
       "    .dataframe tbody tr th:only-of-type {\n",
       "        vertical-align: middle;\n",
       "    }\n",
       "\n",
       "    .dataframe tbody tr th {\n",
       "        vertical-align: top;\n",
       "    }\n",
       "\n",
       "    .dataframe thead th {\n",
       "        text-align: right;\n",
       "    }\n",
       "</style>\n",
       "<table border=\"1\" class=\"dataframe\">\n",
       "  <thead>\n",
       "    <tr style=\"text-align: right;\">\n",
       "      <th></th>\n",
       "      <th>mode</th>\n",
       "      <th>yearly_emissions</th>\n",
       "      <th>mode_share</th>\n",
       "      <th>emission_share</th>\n",
       "    </tr>\n",
       "  </thead>\n",
       "  <tbody>\n",
       "    <tr>\n",
       "      <th>0</th>\n",
       "      <td>car</td>\n",
       "      <td>166.18</td>\n",
       "      <td>0.35</td>\n",
       "      <td>0.75</td>\n",
       "    </tr>\n",
       "    <tr>\n",
       "      <th>1</th>\n",
       "      <td>public_transport</td>\n",
       "      <td>54.54</td>\n",
       "      <td>0.40</td>\n",
       "      <td>0.25</td>\n",
       "    </tr>\n",
       "    <tr>\n",
       "      <th>2</th>\n",
       "      <td>foot/bike</td>\n",
       "      <td>0.00</td>\n",
       "      <td>0.25</td>\n",
       "      <td>0.00</td>\n",
       "    </tr>\n",
       "  </tbody>\n",
       "</table>\n",
       "</div>"
      ],
      "text/plain": [
       "               mode  yearly_emissions  mode_share  emission_share\n",
       "0               car            166.18        0.35            0.75\n",
       "1  public_transport             54.54        0.40            0.25\n",
       "2         foot/bike              0.00        0.25            0.00"
      ]
     },
     "execution_count": 26,
     "metadata": {},
     "output_type": "execute_result"
    }
   ],
   "source": [
    "all_modes_df_agg['emission_share'] = round(all_modes_df_agg['yearly_emissions'] / all_modes_df_agg['yearly_emissions'].sum(), 2)\n",
    "all_modes_df_agg"
   ]
  },
  {
   "cell_type": "code",
   "execution_count": 27,
   "id": "4d5515ed-3a1f-4def-a10e-5bf11972b5f4",
   "metadata": {},
   "outputs": [
    {
     "data": {
      "image/png": "[encoded data removed]",
      "text/plain": [
       "<Figure size 640x480 with 1 Axes>"
      ]
     },
     "metadata": {},
     "output_type": "display_data"
    }
   ],
   "source": [
    "x_axis = np.arange(len(all_modes_df_agg['mode']))\n",
    "plt.bar(x_axis - 0.2, all_modes_df_agg['mode_share'], 0.4, label = 'Mode share')\n",
    "plt.bar(x_axis + 0.2, all_modes_df_agg['emission_share'], 0.4, label = 'Emission share')\n",
    "plt.xticks(x_axis, all_modes_df_agg['mode'])\n",
    "plt.title(f'Mode and emission share - {year}')\n",
    "plt.legend()\n",
    "plt.show()"
   ]
  }
 ],
 "metadata": {
  "kernelspec": {
   "display_name": "Python 3 (ipykernel)",
   "language": "python",
   "name": "python3"
  },
  "language_info": {
   "codemirror_mode": {
    "name": "ipython",
    "version": 3
   },
   "file_extension": ".py",
   "mimetype": "text/x-python",
   "name": "python",
   "nbconvert_exporter": "python",
   "pygments_lexer": "ipython3",
   "version": "3.9.13"
  }
 },
 "nbformat": 4,
 "nbformat_minor": 5
}
